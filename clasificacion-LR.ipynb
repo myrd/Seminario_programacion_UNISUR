{
 "cells": [
  {
   "cell_type": "markdown",
   "id": "94f1d6ea",
   "metadata": {},
   "source": [
    "# Clasificación de células mamarias para el diagnóstico morfológico de cáncer de mama a través del ajuste de un Modelo de Regresión Logística\n",
    "\n",
    "\n",
    "## Equipo de trabajo\n",
    "\n",
    "1. Miriam Díaz Rodríguez\n",
    "2. Marisol Flores Guerrero\n",
    "3. Noé Salvador Hernández González\n",
    "4. José Antonio Aviña Méndez "
   ]
  },
  {
   "cell_type": "markdown",
   "id": "bb3473cd",
   "metadata": {},
   "source": [
    "## ¿Qué es el cáncer de mama?\n",
    "\n",
    "El cáncer de mama se presenta, como un cuadro patalógico, cuando las células mamarias comienzan a crecer sin control. Las células cancerosas del seno suelen formar un tumor, el cual se puede observar en una radiografía. Más aún, dicho tumor puede detectarse, a través del tacto, como una masa o bulto. "
   ]
  },
  {
   "cell_type": "code",
   "execution_count": 95,
   "id": "e8176bf3",
   "metadata": {},
   "outputs": [],
   "source": [
    "import pandas as pd\n",
    "import numpy as np\n",
    "import matplotlib.pyplot as plt\n",
    "import seaborn as sns\n",
    "import warnings\n",
    "warnings.filterwarnings('ignore')\n",
    "from sklearn.preprocessing import StandardScaler\n",
    "import sklearn.linear_model as skl_lm\n",
    "from sklearn import preprocessing\n",
    "from sklearn import neighbors\n",
    "from sklearn.metrics import confusion_matrix, classification_report, precision_score\n",
    "from sklearn.model_selection import train_test_split\n",
    "import statsmodels.api as sm\n",
    "import statsmodels.formula.api as smf\n",
    "\n",
    "\n",
    "sns.set(style=\"whitegrid\", color_codes=True, font_scale=1.3)\n",
    "%matplotlib inline"
   ]
  },
  {
   "cell_type": "markdown",
   "id": "d84b76f2",
   "metadata": {},
   "source": [
    "## Fuentes de información y almacenamiento\n",
    "\n",
    "El DataSet se obtuvo del *UCI Machine Learning Repository* (https://archive.ics.uci.edu/ml/datasets/breast+cancer+wisconsin+(diagnostic). El formato de almacenamiento adoptado es *CSV*, el cuál es uno de los formatos más comunmente utilizados y apropiados para administrar DataSets."
   ]
  },
  {
   "cell_type": "code",
   "execution_count": 97,
   "id": "d6375299",
   "metadata": {},
   "outputs": [
    {
     "name": "stdout",
     "output_type": "stream",
     "text": [
      "Características del núcleo de las células y su respectivo diagnóstico:\n"
     ]
    },
    {
     "data": {
      "text/html": [
       "<div>\n",
       "<style scoped>\n",
       "    .dataframe tbody tr th:only-of-type {\n",
       "        vertical-align: middle;\n",
       "    }\n",
       "\n",
       "    .dataframe tbody tr th {\n",
       "        vertical-align: top;\n",
       "    }\n",
       "\n",
       "    .dataframe thead th {\n",
       "        text-align: right;\n",
       "    }\n",
       "</style>\n",
       "<table border=\"1\" class=\"dataframe\">\n",
       "  <thead>\n",
       "    <tr style=\"text-align: right;\">\n",
       "      <th></th>\n",
       "      <th>diagnosis</th>\n",
       "      <th>radius_mean</th>\n",
       "      <th>texture_mean</th>\n",
       "      <th>perimeter_mean</th>\n",
       "      <th>area_mean</th>\n",
       "      <th>smoothness_mean</th>\n",
       "      <th>compactness_mean</th>\n",
       "      <th>concavity_mean</th>\n",
       "      <th>concave points_mean</th>\n",
       "      <th>symmetry_mean</th>\n",
       "      <th>...</th>\n",
       "      <th>texture_worst</th>\n",
       "      <th>perimeter_worst</th>\n",
       "      <th>area_worst</th>\n",
       "      <th>smoothness_worst</th>\n",
       "      <th>compactness_worst</th>\n",
       "      <th>concavity_worst</th>\n",
       "      <th>concave points_worst</th>\n",
       "      <th>symmetry_worst</th>\n",
       "      <th>fractal_dimension_worst</th>\n",
       "      <th>Unnamed: 32</th>\n",
       "    </tr>\n",
       "    <tr>\n",
       "      <th>id</th>\n",
       "      <th></th>\n",
       "      <th></th>\n",
       "      <th></th>\n",
       "      <th></th>\n",
       "      <th></th>\n",
       "      <th></th>\n",
       "      <th></th>\n",
       "      <th></th>\n",
       "      <th></th>\n",
       "      <th></th>\n",
       "      <th></th>\n",
       "      <th></th>\n",
       "      <th></th>\n",
       "      <th></th>\n",
       "      <th></th>\n",
       "      <th></th>\n",
       "      <th></th>\n",
       "      <th></th>\n",
       "      <th></th>\n",
       "      <th></th>\n",
       "      <th></th>\n",
       "    </tr>\n",
       "  </thead>\n",
       "  <tbody>\n",
       "    <tr>\n",
       "      <th>842302</th>\n",
       "      <td>M</td>\n",
       "      <td>17.99</td>\n",
       "      <td>10.38</td>\n",
       "      <td>122.80</td>\n",
       "      <td>1001.0</td>\n",
       "      <td>0.11840</td>\n",
       "      <td>0.27760</td>\n",
       "      <td>0.3001</td>\n",
       "      <td>0.14710</td>\n",
       "      <td>0.2419</td>\n",
       "      <td>...</td>\n",
       "      <td>17.33</td>\n",
       "      <td>184.60</td>\n",
       "      <td>2019.0</td>\n",
       "      <td>0.1622</td>\n",
       "      <td>0.6656</td>\n",
       "      <td>0.7119</td>\n",
       "      <td>0.2654</td>\n",
       "      <td>0.4601</td>\n",
       "      <td>0.11890</td>\n",
       "      <td>NaN</td>\n",
       "    </tr>\n",
       "    <tr>\n",
       "      <th>842517</th>\n",
       "      <td>M</td>\n",
       "      <td>20.57</td>\n",
       "      <td>17.77</td>\n",
       "      <td>132.90</td>\n",
       "      <td>1326.0</td>\n",
       "      <td>0.08474</td>\n",
       "      <td>0.07864</td>\n",
       "      <td>0.0869</td>\n",
       "      <td>0.07017</td>\n",
       "      <td>0.1812</td>\n",
       "      <td>...</td>\n",
       "      <td>23.41</td>\n",
       "      <td>158.80</td>\n",
       "      <td>1956.0</td>\n",
       "      <td>0.1238</td>\n",
       "      <td>0.1866</td>\n",
       "      <td>0.2416</td>\n",
       "      <td>0.1860</td>\n",
       "      <td>0.2750</td>\n",
       "      <td>0.08902</td>\n",
       "      <td>NaN</td>\n",
       "    </tr>\n",
       "    <tr>\n",
       "      <th>84300903</th>\n",
       "      <td>M</td>\n",
       "      <td>19.69</td>\n",
       "      <td>21.25</td>\n",
       "      <td>130.00</td>\n",
       "      <td>1203.0</td>\n",
       "      <td>0.10960</td>\n",
       "      <td>0.15990</td>\n",
       "      <td>0.1974</td>\n",
       "      <td>0.12790</td>\n",
       "      <td>0.2069</td>\n",
       "      <td>...</td>\n",
       "      <td>25.53</td>\n",
       "      <td>152.50</td>\n",
       "      <td>1709.0</td>\n",
       "      <td>0.1444</td>\n",
       "      <td>0.4245</td>\n",
       "      <td>0.4504</td>\n",
       "      <td>0.2430</td>\n",
       "      <td>0.3613</td>\n",
       "      <td>0.08758</td>\n",
       "      <td>NaN</td>\n",
       "    </tr>\n",
       "    <tr>\n",
       "      <th>84348301</th>\n",
       "      <td>M</td>\n",
       "      <td>11.42</td>\n",
       "      <td>20.38</td>\n",
       "      <td>77.58</td>\n",
       "      <td>386.1</td>\n",
       "      <td>0.14250</td>\n",
       "      <td>0.28390</td>\n",
       "      <td>0.2414</td>\n",
       "      <td>0.10520</td>\n",
       "      <td>0.2597</td>\n",
       "      <td>...</td>\n",
       "      <td>26.50</td>\n",
       "      <td>98.87</td>\n",
       "      <td>567.7</td>\n",
       "      <td>0.2098</td>\n",
       "      <td>0.8663</td>\n",
       "      <td>0.6869</td>\n",
       "      <td>0.2575</td>\n",
       "      <td>0.6638</td>\n",
       "      <td>0.17300</td>\n",
       "      <td>NaN</td>\n",
       "    </tr>\n",
       "    <tr>\n",
       "      <th>84358402</th>\n",
       "      <td>M</td>\n",
       "      <td>20.29</td>\n",
       "      <td>14.34</td>\n",
       "      <td>135.10</td>\n",
       "      <td>1297.0</td>\n",
       "      <td>0.10030</td>\n",
       "      <td>0.13280</td>\n",
       "      <td>0.1980</td>\n",
       "      <td>0.10430</td>\n",
       "      <td>0.1809</td>\n",
       "      <td>...</td>\n",
       "      <td>16.67</td>\n",
       "      <td>152.20</td>\n",
       "      <td>1575.0</td>\n",
       "      <td>0.1374</td>\n",
       "      <td>0.2050</td>\n",
       "      <td>0.4000</td>\n",
       "      <td>0.1625</td>\n",
       "      <td>0.2364</td>\n",
       "      <td>0.07678</td>\n",
       "      <td>NaN</td>\n",
       "    </tr>\n",
       "  </tbody>\n",
       "</table>\n",
       "<p>5 rows × 32 columns</p>\n",
       "</div>"
      ],
      "text/plain": [
       "         diagnosis  radius_mean  texture_mean  perimeter_mean  area_mean  \\\n",
       "id                                                                         \n",
       "842302           M        17.99         10.38          122.80     1001.0   \n",
       "842517           M        20.57         17.77          132.90     1326.0   \n",
       "84300903         M        19.69         21.25          130.00     1203.0   \n",
       "84348301         M        11.42         20.38           77.58      386.1   \n",
       "84358402         M        20.29         14.34          135.10     1297.0   \n",
       "\n",
       "          smoothness_mean  compactness_mean  concavity_mean  \\\n",
       "id                                                            \n",
       "842302            0.11840           0.27760          0.3001   \n",
       "842517            0.08474           0.07864          0.0869   \n",
       "84300903          0.10960           0.15990          0.1974   \n",
       "84348301          0.14250           0.28390          0.2414   \n",
       "84358402          0.10030           0.13280          0.1980   \n",
       "\n",
       "          concave points_mean  symmetry_mean  ...  texture_worst  \\\n",
       "id                                            ...                  \n",
       "842302                0.14710         0.2419  ...          17.33   \n",
       "842517                0.07017         0.1812  ...          23.41   \n",
       "84300903              0.12790         0.2069  ...          25.53   \n",
       "84348301              0.10520         0.2597  ...          26.50   \n",
       "84358402              0.10430         0.1809  ...          16.67   \n",
       "\n",
       "          perimeter_worst  area_worst  smoothness_worst  compactness_worst  \\\n",
       "id                                                                           \n",
       "842302             184.60      2019.0            0.1622             0.6656   \n",
       "842517             158.80      1956.0            0.1238             0.1866   \n",
       "84300903           152.50      1709.0            0.1444             0.4245   \n",
       "84348301            98.87       567.7            0.2098             0.8663   \n",
       "84358402           152.20      1575.0            0.1374             0.2050   \n",
       "\n",
       "          concavity_worst  concave points_worst  symmetry_worst  \\\n",
       "id                                                                \n",
       "842302             0.7119                0.2654          0.4601   \n",
       "842517             0.2416                0.1860          0.2750   \n",
       "84300903           0.4504                0.2430          0.3613   \n",
       "84348301           0.6869                0.2575          0.6638   \n",
       "84358402           0.4000                0.1625          0.2364   \n",
       "\n",
       "          fractal_dimension_worst  Unnamed: 32  \n",
       "id                                              \n",
       "842302                    0.11890          NaN  \n",
       "842517                    0.08902          NaN  \n",
       "84300903                  0.08758          NaN  \n",
       "84348301                  0.17300          NaN  \n",
       "84358402                  0.07678          NaN  \n",
       "\n",
       "[5 rows x 32 columns]"
      ]
     },
     "execution_count": 97,
     "metadata": {},
     "output_type": "execute_result"
    }
   ],
   "source": [
    "# cargar los datos\n",
    "data = pd.read_csv('data.csv', index_col=0)\n",
    "\n",
    "print('Características del núcleo de las células y su respectivo diagnóstico:')\n",
    "data.head()"
   ]
  },
  {
   "cell_type": "code",
   "execution_count": 98,
   "id": "441161d2",
   "metadata": {},
   "outputs": [],
   "source": [
    "# eliminar columna con faltantes\n",
    "data = data.drop('Unnamed: 32', axis=1)"
   ]
  },
  {
   "cell_type": "markdown",
   "id": "0ef5c787",
   "metadata": {},
   "source": [
    "## Morfología de una célula de mama\n",
    "\n",
    "A continuación se muestran la morfología normal de una célula, sana, de mama y una célula con alteraciones morfológicas sugestivas de cáncer de mama.\n",
    "\n",
    "\n",
    "![Alt Text](cells.png)\n",
    "Fig. 1: Morfología de la células mamarias. Adaptada de https://www.verywellhealth.com/what-does-malignant-and-benign-mean-514240\n"
   ]
  },
  {
   "cell_type": "markdown",
   "id": "0039362c",
   "metadata": {},
   "source": [
    "## Visualización de datos"
   ]
  },
  {
   "cell_type": "code",
   "execution_count": 99,
   "id": "363fcbf7",
   "metadata": {},
   "outputs": [
    {
     "name": "stdout",
     "output_type": "stream",
     "text": [
      "Observaciones etiquetadas como Benignas:  357\n",
      "Observaciones etiquetadas como Malignas :  212\n"
     ]
    },
    {
     "data": {
      "image/png": "[encoded data removed]",
      "text/plain": [
       "<Figure size 800x400 with 1 Axes>"
      ]
     },
     "metadata": {},
     "output_type": "display_data"
    }
   ],
   "source": [
    "plt.figure(figsize=(8, 4))\n",
    "sns.countplot(df['diagnosis'], palette='RdBu')\n",
    "\n",
    "benignas, malignas = df['diagnosis'].value_counts()\n",
    "print('Observaciones etiquetadas como Benignas: ', benignas)\n",
    "print('Observaciones etiquetadas como Malignas : ', malignas)"
   ]
  },
  {
   "cell_type": "code",
   "execution_count": 100,
   "id": "91ad31f9",
   "metadata": {},
   "outputs": [
    {
     "name": "stdout",
     "output_type": "stream",
     "text": [
      "Variables categórica y predictoras:\n"
     ]
    },
    {
     "data": {
      "text/plain": [
       "Index(['diagnosis', 'radius_mean', 'texture_mean', 'smoothness_mean',\n",
       "       'compactness_mean', 'symmetry_mean', 'fractal_dimension_mean',\n",
       "       'radius_se', 'texture_se', 'smoothness_se', 'compactness_se',\n",
       "       'symmetry_se', 'fractal_dimension_se'],\n",
       "      dtype='object')"
      ]
     },
     "execution_count": 100,
     "metadata": {},
     "output_type": "execute_result"
    }
   ],
   "source": [
    "# eliminar variables para conservar solo categórica y predictoras\n",
    "cols = ['radius_worst', \n",
    "        'texture_worst', \n",
    "        'perimeter_worst', \n",
    "        'area_worst', \n",
    "        'smoothness_worst', \n",
    "        'compactness_worst', \n",
    "        'concavity_worst',\n",
    "        'concave points_worst', \n",
    "        'symmetry_worst', \n",
    "        'fractal_dimension_worst']\n",
    "data = data.drop(cols, axis=1)\n",
    "\n",
    "cols = ['perimeter_mean',\n",
    "        'perimeter_se', \n",
    "        'area_mean', \n",
    "        'area_se']\n",
    "data = data.drop(cols, axis=1)\n",
    "\n",
    "cols = ['concavity_mean',\n",
    "        'concavity_se', \n",
    "        'concave points_mean', \n",
    "        'concave points_se']\n",
    "data = data.drop(cols, axis=1)\n",
    "\n",
    "print('Variables categórica y predictoras:')\n",
    "data.columns"
   ]
  },
  {
   "cell_type": "markdown",
   "id": "10a02610",
   "metadata": {},
   "source": [
    "## Segmentar el conjunto de datos para entrenamiento y prueba"
   ]
  },
  {
   "cell_type": "code",
   "execution_count": 101,
   "id": "2fb15336",
   "metadata": {},
   "outputs": [],
   "source": [
    "predictoras = data\n",
    "categorica = data['diagnosis']\n",
    "\n",
    "predictoras_train, predictoras_test, categorica_train, categoria_test = train_test_split(predictoras, categorica, test_size=0.3, random_state=40)"
   ]
  },
  {
   "cell_type": "markdown",
   "id": "3537feef",
   "metadata": {},
   "source": [
    "## Aprendizaje y entrenamiento\n",
    "El proceso de aprendizaje máquina consiste en un problema de optimización de una función objetivo (i.e. loss function). En este particular escenario se emplea como *loss function* la función **maximum likelihood** $L(\\mathbf{\\theta})$:\n",
    "\n",
    "\n",
    "$$\n",
    "L(\\theta) =\\prod_{i=1}^{N} \\  p\\left(y^{(i)} \\mid \\mathbf{x}^{(i)} ; \\mathbf{\\theta}\\right)^{y^{(i)}}  * \\ \\ \\ \n",
    "p\\left(y^{(i)} \\mid \\mathbf{x}^{(i)} ; \\mathbf{\\theta}\\right)^{1-y^{(i)}}\n",
    "$$                                                                      \n",
    "\n",
    "\n",
    "Sin embargo, para facilitar la solución del problema de optimización replanteamos la función likelihood en términos de lo que técnicamente se conoce como función **loglikelihood** $LL(\\theta)$: \n",
    "\n",
    "\n",
    " $$LL(\\theta) =  J(\\theta)=-\\frac{1}{m}\\left[\\sum\\limits_{i=1}^{m}\\left(\\log  p \\left(y^{(i)} \\mid \\mathbf{x}^{(i)} ;  \\mathbf{\\theta}\\right)^{y^{(i)}}  + \\ \\ \\ \\log \\left(p\\left(y^{(i)} \\mid \\mathbf{x}^{(i)} ; \\mathbf{\\theta}\\right)^{1- y^{(i)}} \\right)\\right)\\right]$$\n",
    " \n",
    " y es que ambas funciones convergen en el mismo máximo global como se puede apreciar en la Fig. 2:\n",
    " \n",
    "![Alt Text](likeli-loglikeli.png)\n",
    "Fig. 2: likelihood vs log(likelihood). Adaptada de https://www.aptech.com/blog/beginners-guide-to-maximum-likelihood-estimation-in-gauss/\n",
    " \n",
    " \n",
    "### Simplificación y minimización de la loss function\n",
    "\n",
    "Bien, renombremos $LL(\\theta) = J(\\theta)$ para proceder a minimizar la función loglikelihood $J(\\theta)$. Ahora, para facilitar este proceso de minimización vamos a simplificar $J(\\theta)$: \n",
    "\n",
    "### Simplificación de $J(\\theta)$\n",
    "\n",
    "Para simplificar nuestra loss function haremos recurso tanto a las leyes de los logaritmos como a simples manipulaciones algebraicas:\n",
    "\n",
    "$$J(\\theta)=-\\frac{1}{m}\\left[\\sum\\limits_{i=1}^{m}\\left(\\left(\\log h_{\\theta}\\left(x^{(i)}\\right)\\right)^{y^{(i)}}+ \\log \\left(1-h_{\\theta}\\left(x^{(i)}\\right)\\right)^{\\left(1-y^{(i)}\\right)}\\right)\\right]$$\n",
    "\n",
    "**apliquemos log power rule**\n",
    "\n",
    "$$J(\\theta)=-\\frac{1}{m}\\left[\\sum\\limits_{i=1}^{m}\\left(y^{(i)}\\left(\\log h_{\\theta}\\left(x^{(i)}\\right)\\right)+\\left(1-y^{(i)}\\right) \\log \\left(1-h_{\\theta}\\left(x^{(i)}\\right)\\right)\\right)\\right]$$\n",
    "\n",
    "\n",
    "**reemplacemos** $h_{\\theta}\\left(x^{(i)}\\right)$ **por la función sigmoide**\n",
    "\n",
    "$$=-\\frac{1}{m}\\left[\\sum\\limits_{i=1}^{m}\\left(y^{(i)} \\log \\left(\\frac{1}{1+e^{-\\theta^{T} x^{(i)}}}\\right)+\\left(1-y^{(i)}\\right) \\log \\left(1-\\frac{1}{1+e^{-\\theta^{T} x^{(i)}}}\\right)\\right)\\right]$$\n",
    "\n",
    "\n",
    "$$=-\\frac{1}{m}\\left[\\sum\\limits_{i=1}^{m}\\left(y^{(i)} \\log \\left(\\frac{1}{1+e^{-\\theta^{T} x^{(i)}}}\\right)+\\left(1-y^{(i)}\\right) \\log \\left(\\frac{e^{-\\theta^{T} x^{(i)}}}{1+e^{-\\theta^{T} x^{(i)}}}\\right)\\right)\\right]$$\n",
    "\n",
    "\n",
    "**apliquemos quotient rule** $\\log \\left(\\frac{a}{b}\\right)=\\log (a)-\\log (b)$ \n",
    "\n",
    "$$=-\\frac{1}{m}\\left[\\sum\\limits_{i=1}^{m}\\left(y^{(i)}\\left(\\log (1)-\\log \\left(1+e^{-\\theta^{T} x^{(i)}}\\right)\\right)+\\left(1-y^{(i)}\\right) \\log \\left(\\frac{e^{-\\theta^{T} x^{(i)}}}{1+e^{-\\theta^{T} x^{(i)}}}\\right)\\right)\\right]$$\n",
    "\n",
    "$$=-\\frac{1}{m}\\left[\\sum\\limits_{i=1}^{m}\\left(-y^{(i)} \\log \\left(1+e^{-\\theta^{T} x^{(i)}}\\right)+\\left(1-y^{(i)}\\right) \\log \\left(\\frac{e^{-\\theta^{T} x^{(i)}}}{1+e^{-\\theta^{T} x^{(i)}}}\\right)\\right)\\right]$$\n",
    "\n",
    "\n",
    "**apliquemos nuevamente quotient rule** $\\log \\left(\\frac{a}{b}\\right)=\\log (a)-\\log (b)$ \n",
    "\n",
    "$$=-\\frac{1}{m}\\left[\\sum\\limits_{i=1}^{m}\\left(-y^{(i)} \\log \\left(1+e^{-\\theta^{T} x^{(i)}}\\right)+\\left(1-y^{(i)}\\right) \\log \\left(e^{-\\theta^{T} x^{(i)}}\\right)-\\left(1-y^{(i)}\\right)\\left(\\log \\left(1+e^{-\\theta^{T} x^{(i)}}\\right)\\right)\\right]\\right.$$\n",
    "\n",
    "**apliquemos ahora** $\\log \\left(e^{a}\\right)=a$ \n",
    "\n",
    "$$=-\\frac{1}{m}\\left[\\sum\\limits_{i=1}^{m}\\left(-y^{(i)} \\log \\left(1+e^{-\\theta^{T} x^{(i)}}\\right)+\\left(1-y^{(i)}\\right)\\left(-\\theta^{T} x^{(i)}\\right)-\\left(1-y^{(i)}\\right)\\left(\\log \\left(1+e^{-\\theta^{T} x^{(i)}}\\right)\\right)\\right]\\right.$$\n",
    "\n",
    "**movamos el signo**\n",
    "\n",
    "$$=\\frac{1}{m}\\left[\\sum\\limits_{i=1}^{m}\\left(y^{(i)} \\log \\left(1+e^{-\\theta^{T} x^{(i)}}\\right)+\\left(1-y^{(i)}\\right)\\left(\\theta^{T} x^{(i)}\\right)+\\left(1-y^{(i)}\\right)\\left(\\log \\left(1+e^{-\\theta^{T} x^{(i)}}\\right)\\right)\\right]\\right.$$\n",
    "\n",
    "\n",
    "**factoricemos términos**\n",
    "\n",
    "$$=\\frac{1}{m}\\left[\\sum\\limits_{i=1}^{m}\\left(\\log \\left(1+e^{-\\theta^{T} x^{(i)}}\\right)+\\left(1-y^{(i)}\\right)\\left(\\theta^{T} x^{(i)}\\right)\\right)\\right]$$\n",
    "\n",
    "\n",
    "### Minimización de $J(\\theta)$\n",
    "\n",
    "$$\\frac{\\partial J(\\theta)}{\\partial \\theta_{j}} =\\frac{1}{m}\\left[\\sum\\limits_{i=1}^{m}\\left(\\frac{e^{-\\theta^{T} x^{(i)}}\\left(-x_{j}^{(i)}\\right)}{1+e^{-\\theta^{T} x^{(i)}}}+\\left(1-y^{(i)}\\right) x_{j}^{(i)}\\right)\\right]$$\n",
    "\n",
    "**usemos como factor común** $x^{(i)}_{j}$\n",
    "\n",
    "$$=\\frac{1}{m}\\left[\\sum\\limits_{i=1}^{m}\\left(\\frac{-e^{-\\theta^{T} x^{(i)}}}{1+e^{-\\theta^{T} x^{(i)}}}+1-y^{(i)}\\right) x_{j}^{(i)}\\right]$$\n",
    "\n",
    "**combinemos términos**\n",
    "\n",
    "$$\\left.=\\frac{1}{m}\\left[\\sum\\limits_{i=1}^{m}\\left(\\frac{1}{1+e^{-\\theta^{T} x^{(i)}}}-y^{(i)}\\right) x_{j}^{(i)}\\right)\\right]$$\n",
    "\n",
    "\n",
    "Una vez optimizada la loss function podemos entonces construir la **Regla de Aprendizaje** que se empleará en el *Gradiente descenciente* para aprender (i.e. optimizar) los parámetros, $\\theta_j$, del modelo:\n",
    "\n",
    "\n",
    "$$ \n",
    "\\theta_j^{new} = \\theta_j^{old} - \\alpha \\cdot \\sum\\limits_{i=1}^{m}\\left(\\frac{1}{1+e^{-\\theta^{T} x^{(i)}}}-y^{(i)}\\right) x_{j}^{(i)}\n",
    "$$\n",
    "\n",
    "#### Solución del Sistema de Ecuaciones\n",
    "\n",
    "Dado que $J(\\theta)$ posee funciones trascendentes, el sistema de ecuaciones no posee una solución cerrada por lo que se recurre a una técnica iterativa de optimización, de primer orden, como el gradiente descendiente para aproximarnos a los valores óptimos de los parámetros, $\\theta_j$, del modelo."
   ]
  },
  {
   "cell_type": "code",
   "execution_count": 102,
   "id": "63a7505a",
   "metadata": {},
   "outputs": [],
   "source": [
    "cols = data.columns.drop('diagnosis')\n",
    "formula = 'diagnosis ~ ' + ' + '.join(cols)\n",
    "modelo = smf.glm(formula=formula, data=predictoras_train, family=sm.families.Binomial())\n",
    "modelo_aproximado = modelo.fit()"
   ]
  },
  {
   "cell_type": "markdown",
   "id": "54c5b619",
   "metadata": {},
   "source": [
    "## Probabilidad Condicional\n",
    "Una vez ajustado el modelo se procede prácticamente a calcular la probabilidad condicional, $(y|x,\\theta)$, de que las observaciones -del subconjunto de prueba- pertenezcan a la clase Maligno o Benigno. "
   ]
  },
  {
   "cell_type": "code",
   "execution_count": 103,
   "id": "91c05757",
   "metadata": {},
   "outputs": [
    {
     "name": "stdout",
     "output_type": "stream",
     "text": [
      "Probabilidad condicional para las primeras 10 observaciones del subconjunto de prueba:\n"
     ]
    },
    {
     "data": {
      "text/plain": [
       "id\n",
       "848406      0.324251\n",
       "907915      0.996906\n",
       "911201      0.964710\n",
       "84799002    0.000544\n",
       "8911164     0.838719\n",
       "9113156     0.609435\n",
       "863031      0.967341\n",
       "8711216     0.053005\n",
       "865137      0.999907\n",
       "dtype: float64"
      ]
     },
     "execution_count": 103,
     "metadata": {},
     "output_type": "execute_result"
    }
   ],
   "source": [
    "predicciones = modelo_aproximado.predict(predictoras_test)\n",
    "\n",
    "print('Probabilidad condicional para las primeras 10 observaciones del subconjunto de prueba:')\n",
    "predicciones[1:10]"
   ]
  },
  {
   "cell_type": "markdown",
   "id": "48323616",
   "metadata": {},
   "source": [
    "### Clasificación de tumores"
   ]
  },
  {
   "cell_type": "code",
   "execution_count": 106,
   "id": "601f91f0",
   "metadata": {},
   "outputs": [
    {
     "name": "stdout",
     "output_type": "stream",
     "text": [
      "Primeros 10 tumores clasificados con el modelo aprendido (i.e. optimizado):\n"
     ]
    },
    {
     "data": {
      "text/plain": [
       "['maligno',\n",
       " 'benigno',\n",
       " 'benigno',\n",
       " 'maligno',\n",
       " 'benigno',\n",
       " 'benigno',\n",
       " 'benigno',\n",
       " 'maligno',\n",
       " 'benigno']"
      ]
     },
     "execution_count": 106,
     "metadata": {},
     "output_type": "execute_result"
    }
   ],
   "source": [
    "tumores_clasificados = [ \"maligno\" if x < 0.5 else \"benigno\" for x in predicciones]\n",
    "\n",
    "print('Primeros 10 tumores clasificados con el modelo aprendido (i.e. optimizado):')\n",
    "tumores_clasificados[1:10]\n",
    "\n"
   ]
  },
  {
   "cell_type": "markdown",
   "id": "cc790614",
   "metadata": {},
   "source": [
    "### Interpretación de los resultados\n",
    "\n",
    "Finalmente, dado el siguiente conjunto de valores de la probabilidad condicional $p(y|x,\\theta)$ (i.e. predicciones): \n"
   ]
  },
  {
   "cell_type": "code",
   "execution_count": 107,
   "id": "5e6cb840",
   "metadata": {},
   "outputs": [
    {
     "data": {
      "text/plain": [
       "id\n",
       "848406      0.324251\n",
       "907915      0.996906\n",
       "911201      0.964710\n",
       "84799002    0.000544\n",
       "8911164     0.838719\n",
       "9113156     0.609435\n",
       "863031      0.967341\n",
       "8711216     0.053005\n",
       "865137      0.999907\n",
       "dtype: float64"
      ]
     },
     "execution_count": 107,
     "metadata": {},
     "output_type": "execute_result"
    }
   ],
   "source": [
    "predicciones[1:10]"
   ]
  },
  {
   "cell_type": "markdown",
   "id": "f10b1900",
   "metadata": {},
   "source": [
    "**entonces**:\n",
    "\n",
    "*Si $p(y|x,\\theta) = 0.324251$, el tumor es maligno*\n",
    "\n",
    "*Si $p(y|x,\\theta) = 0.996906$, el tumor es benigno*\n",
    "\n",
    "$\\vdots$\n",
    "\n",
    "*Si $p(y|x,\\theta) =  0.053005$, el tumor es maligno*\n",
    "\n",
    "*Si $p(y|x,\\theta) = 0.999907$, el tumor es benigno*"
   ]
  }
 ],
 "metadata": {
  "kernelspec": {
   "display_name": "Python 3 (ipykernel)",
   "language": "python",
   "name": "python3"
  },
  "language_info": {
   "codemirror_mode": {
    "name": "ipython",
    "version": 3
   },
   "file_extension": ".py",
   "mimetype": "text/x-python",
   "name": "python",
   "nbconvert_exporter": "python",
   "pygments_lexer": "ipython3",
   "version": "3.9.13"
  }
 },
 "nbformat": 4,
 "nbformat_minor": 5
}
